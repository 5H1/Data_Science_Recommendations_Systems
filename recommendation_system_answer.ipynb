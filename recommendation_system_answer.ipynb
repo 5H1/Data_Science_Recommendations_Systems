{
 "cells": [
  {
   "cell_type": "code",
   "execution_count": 1,
   "id": "72733913-f033-4f32-b59d-e5f7b7398070",
   "metadata": {},
   "outputs": [
    {
     "data": {
      "text/html": [
       "<div>\n",
       "<style scoped>\n",
       "    .dataframe tbody tr th:only-of-type {\n",
       "        vertical-align: middle;\n",
       "    }\n",
       "\n",
       "    .dataframe tbody tr th {\n",
       "        vertical-align: top;\n",
       "    }\n",
       "\n",
       "    .dataframe thead th {\n",
       "        text-align: right;\n",
       "    }\n",
       "</style>\n",
       "<table border=\"1\" class=\"dataframe\">\n",
       "  <thead>\n",
       "    <tr style=\"text-align: right;\">\n",
       "      <th></th>\n",
       "      <th>anime_id</th>\n",
       "      <th>name</th>\n",
       "      <th>genre</th>\n",
       "      <th>type</th>\n",
       "      <th>episodes</th>\n",
       "      <th>rating</th>\n",
       "      <th>members</th>\n",
       "    </tr>\n",
       "  </thead>\n",
       "  <tbody>\n",
       "    <tr>\n",
       "      <th>0</th>\n",
       "      <td>32281</td>\n",
       "      <td>Kimi no Na wa.</td>\n",
       "      <td>Drama, Romance, School, Supernatural</td>\n",
       "      <td>Movie</td>\n",
       "      <td>1</td>\n",
       "      <td>9.37</td>\n",
       "      <td>200630</td>\n",
       "    </tr>\n",
       "    <tr>\n",
       "      <th>1</th>\n",
       "      <td>5114</td>\n",
       "      <td>Fullmetal Alchemist: Brotherhood</td>\n",
       "      <td>Action, Adventure, Drama, Fantasy, Magic, Mili...</td>\n",
       "      <td>TV</td>\n",
       "      <td>64</td>\n",
       "      <td>9.26</td>\n",
       "      <td>793665</td>\n",
       "    </tr>\n",
       "    <tr>\n",
       "      <th>2</th>\n",
       "      <td>28977</td>\n",
       "      <td>Gintama°</td>\n",
       "      <td>Action, Comedy, Historical, Parody, Samurai, S...</td>\n",
       "      <td>TV</td>\n",
       "      <td>51</td>\n",
       "      <td>9.25</td>\n",
       "      <td>114262</td>\n",
       "    </tr>\n",
       "    <tr>\n",
       "      <th>3</th>\n",
       "      <td>9253</td>\n",
       "      <td>Steins;Gate</td>\n",
       "      <td>Sci-Fi, Thriller</td>\n",
       "      <td>TV</td>\n",
       "      <td>24</td>\n",
       "      <td>9.17</td>\n",
       "      <td>673572</td>\n",
       "    </tr>\n",
       "    <tr>\n",
       "      <th>4</th>\n",
       "      <td>9969</td>\n",
       "      <td>Gintama&amp;#039;</td>\n",
       "      <td>Action, Comedy, Historical, Parody, Samurai, S...</td>\n",
       "      <td>TV</td>\n",
       "      <td>51</td>\n",
       "      <td>9.16</td>\n",
       "      <td>151266</td>\n",
       "    </tr>\n",
       "  </tbody>\n",
       "</table>\n",
       "</div>"
      ],
      "text/plain": [
       "   anime_id                              name  \\\n",
       "0     32281                    Kimi no Na wa.   \n",
       "1      5114  Fullmetal Alchemist: Brotherhood   \n",
       "2     28977                          Gintama°   \n",
       "3      9253                       Steins;Gate   \n",
       "4      9969                     Gintama&#039;   \n",
       "\n",
       "                                               genre   type episodes  rating  \\\n",
       "0               Drama, Romance, School, Supernatural  Movie        1    9.37   \n",
       "1  Action, Adventure, Drama, Fantasy, Magic, Mili...     TV       64    9.26   \n",
       "2  Action, Comedy, Historical, Parody, Samurai, S...     TV       51    9.25   \n",
       "3                                   Sci-Fi, Thriller     TV       24    9.17   \n",
       "4  Action, Comedy, Historical, Parody, Samurai, S...     TV       51    9.16   \n",
       "\n",
       "   members  \n",
       "0   200630  \n",
       "1   793665  \n",
       "2   114262  \n",
       "3   673572  \n",
       "4   151266  "
      ]
     },
     "execution_count": 1,
     "metadata": {},
     "output_type": "execute_result"
    }
   ],
   "source": [
    "#importing the data file\n",
    "import pandas as pd\n",
    "df=pd.read_csv(\"anime.csv\")\n",
    "df.head()"
   ]
  },
  {
   "cell_type": "code",
   "execution_count": 2,
   "id": "914fe7ab-9dd7-4cd2-b20d-13277de7c61b",
   "metadata": {},
   "outputs": [
    {
     "name": "stdout",
     "output_type": "stream",
     "text": [
      "<class 'pandas.core.frame.DataFrame'>\n",
      "RangeIndex: 12294 entries, 0 to 12293\n",
      "Data columns (total 7 columns):\n",
      " #   Column    Non-Null Count  Dtype  \n",
      "---  ------    --------------  -----  \n",
      " 0   anime_id  12294 non-null  int64  \n",
      " 1   name      12294 non-null  object \n",
      " 2   genre     12232 non-null  object \n",
      " 3   type      12269 non-null  object \n",
      " 4   episodes  12294 non-null  object \n",
      " 5   rating    12064 non-null  float64\n",
      " 6   members   12294 non-null  int64  \n",
      "dtypes: float64(1), int64(2), object(4)\n",
      "memory usage: 672.5+ KB\n"
     ]
    }
   ],
   "source": [
    "df.info()"
   ]
  },
  {
   "cell_type": "code",
   "execution_count": null,
   "id": "78ce152d-32d1-4fb6-8eba-02890f2faa8b",
   "metadata": {},
   "outputs": [],
   "source": [
    "##we can observe name,genre,type,episodes as object data type\n",
    "##anime_id and members are the numerical columns...\n"
   ]
  },
  {
   "cell_type": "code",
   "execution_count": 3,
   "id": "61fda6d4-db22-4b9c-9b03-ab9cbde2feae",
   "metadata": {},
   "outputs": [],
   "source": [
    "#we can observe there are missing values in the columns genre and type are the categorical columns and are having the missing values.."
   ]
  },
  {
   "cell_type": "code",
   "execution_count": null,
   "id": "b52bc7a2-6546-4774-b303-1c752924d79d",
   "metadata": {},
   "outputs": [],
   "source": [
    "#Handle missing values, if any."
   ]
  },
  {
   "cell_type": "code",
   "execution_count": 4,
   "id": "46a8bafb-a16d-4033-b7a1-44b4e8cdcb11",
   "metadata": {},
   "outputs": [
    {
     "data": {
      "text/plain": [
       "0    Hentai\n",
       "Name: genre, dtype: object"
      ]
     },
     "execution_count": 4,
     "metadata": {},
     "output_type": "execute_result"
    }
   ],
   "source": [
    "df[\"genre\"].mode()"
   ]
  },
  {
   "cell_type": "code",
   "execution_count": 6,
   "id": "22dc2428-3477-4ed9-b37f-756dd66717c6",
   "metadata": {},
   "outputs": [
    {
     "data": {
      "text/plain": [
       "0    TV\n",
       "Name: type, dtype: object"
      ]
     },
     "execution_count": 6,
     "metadata": {},
     "output_type": "execute_result"
    }
   ],
   "source": [
    "df[\"type\"].mode()"
   ]
  },
  {
   "cell_type": "code",
   "execution_count": null,
   "id": "e4445013-8e89-4d6f-9949-58fc0e9ff408",
   "metadata": {},
   "outputs": [],
   "source": [
    "#replacing the categorical columns with modes...\n"
   ]
  },
  {
   "cell_type": "code",
   "execution_count": 7,
   "id": "71679a61-7af5-487e-a36c-cb252181b8a4",
   "metadata": {},
   "outputs": [],
   "source": [
    "#Handle missing values\n",
    "df['genre'].fillna(\"Hentai\",inplace=True)\n",
    "df['type'].fillna(\"TV\",inplace=True)"
   ]
  },
  {
   "cell_type": "code",
   "execution_count": 8,
   "id": "26886f66-e348-4fef-901d-47efd26f3b72",
   "metadata": {},
   "outputs": [
    {
     "data": {
      "text/plain": [
       "0        False\n",
       "1        False\n",
       "2        False\n",
       "3        False\n",
       "4        False\n",
       "         ...  \n",
       "12289    False\n",
       "12290    False\n",
       "12291    False\n",
       "12292    False\n",
       "12293    False\n",
       "Name: genre, Length: 12294, dtype: bool"
      ]
     },
     "execution_count": 8,
     "metadata": {},
     "output_type": "execute_result"
    }
   ],
   "source": [
    "df[\"genre\"].isnull()"
   ]
  },
  {
   "cell_type": "code",
   "execution_count": 9,
   "id": "abed3ad6-c228-4a21-962e-6db6cdf46333",
   "metadata": {},
   "outputs": [
    {
     "data": {
      "text/plain": [
       "0        False\n",
       "1        False\n",
       "2        False\n",
       "3        False\n",
       "4        False\n",
       "         ...  \n",
       "12289    False\n",
       "12290    False\n",
       "12291    False\n",
       "12292    False\n",
       "12293    False\n",
       "Name: type, Length: 12294, dtype: bool"
      ]
     },
     "execution_count": 9,
     "metadata": {},
     "output_type": "execute_result"
    }
   ],
   "source": [
    "df[\"type\"].isnull()"
   ]
  },
  {
   "cell_type": "code",
   "execution_count": 10,
   "id": "908979dc-1ca3-4838-ab3c-decba32d17ea",
   "metadata": {},
   "outputs": [],
   "source": [
    "#replacing the median values for the numerical columns...\n",
    "df['rating'].fillna(df['rating'].median(), inplace=True)\n",
    "df['members'].fillna(df['members'].median(), inplace=True)\n"
   ]
  },
  {
   "cell_type": "code",
   "execution_count": 11,
   "id": "5b2fcd8b-152b-4c63-b2ca-61a64e5a9c2e",
   "metadata": {},
   "outputs": [
    {
     "data": {
      "text/plain": [
       "0        False\n",
       "1        False\n",
       "2        False\n",
       "3        False\n",
       "4        False\n",
       "         ...  \n",
       "12289    False\n",
       "12290    False\n",
       "12291    False\n",
       "12292    False\n",
       "12293    False\n",
       "Name: rating, Length: 12294, dtype: bool"
      ]
     },
     "execution_count": 11,
     "metadata": {},
     "output_type": "execute_result"
    }
   ],
   "source": [
    "df[\"rating\"].isnull()"
   ]
  },
  {
   "cell_type": "code",
   "execution_count": 12,
   "id": "2ff02ca9-7c6e-40d0-abc0-8e89c93c002b",
   "metadata": {},
   "outputs": [
    {
     "data": {
      "text/plain": [
       "0        False\n",
       "1        False\n",
       "2        False\n",
       "3        False\n",
       "4        False\n",
       "         ...  \n",
       "12289    False\n",
       "12290    False\n",
       "12291    False\n",
       "12292    False\n",
       "12293    False\n",
       "Name: members, Length: 12294, dtype: bool"
      ]
     },
     "execution_count": 12,
     "metadata": {},
     "output_type": "execute_result"
    }
   ],
   "source": [
    "df[\"members\"].isnull()"
   ]
  },
  {
   "cell_type": "code",
   "execution_count": 13,
   "id": "d961eef1-7817-4e8a-b5e5-9d6b455ac4ea",
   "metadata": {},
   "outputs": [],
   "source": [
    "#Explore the dataset to understand its structure and attributes.\n",
    "\n",
    "##PERFORMING EDA"
   ]
  },
  {
   "cell_type": "code",
   "execution_count": 14,
   "id": "21e0676b-8076-41e6-b4a9-ba4dda0aece5",
   "metadata": {},
   "outputs": [
    {
     "name": "stdout",
     "output_type": "stream",
     "text": [
      "<class 'pandas.core.frame.DataFrame'>\n",
      "RangeIndex: 12294 entries, 0 to 12293\n",
      "Data columns (total 7 columns):\n",
      " #   Column    Non-Null Count  Dtype  \n",
      "---  ------    --------------  -----  \n",
      " 0   anime_id  12294 non-null  int64  \n",
      " 1   name      12294 non-null  object \n",
      " 2   genre     12294 non-null  object \n",
      " 3   type      12294 non-null  object \n",
      " 4   episodes  12294 non-null  object \n",
      " 5   rating    12294 non-null  float64\n",
      " 6   members   12294 non-null  int64  \n",
      "dtypes: float64(1), int64(2), object(4)\n",
      "memory usage: 672.5+ KB\n"
     ]
    }
   ],
   "source": [
    "df.info()"
   ]
  },
  {
   "cell_type": "code",
   "execution_count": 16,
   "id": "ee3059be-ff56-4cce-9e0b-f2718c410270",
   "metadata": {},
   "outputs": [
    {
     "data": {
      "text/html": [
       "<div>\n",
       "<style scoped>\n",
       "    .dataframe tbody tr th:only-of-type {\n",
       "        vertical-align: middle;\n",
       "    }\n",
       "\n",
       "    .dataframe tbody tr th {\n",
       "        vertical-align: top;\n",
       "    }\n",
       "\n",
       "    .dataframe thead th {\n",
       "        text-align: right;\n",
       "    }\n",
       "</style>\n",
       "<table border=\"1\" class=\"dataframe\">\n",
       "  <thead>\n",
       "    <tr style=\"text-align: right;\">\n",
       "      <th></th>\n",
       "      <th>anime_id</th>\n",
       "      <th>rating</th>\n",
       "      <th>members</th>\n",
       "    </tr>\n",
       "  </thead>\n",
       "  <tbody>\n",
       "    <tr>\n",
       "      <th>0</th>\n",
       "      <td>32281</td>\n",
       "      <td>9.37</td>\n",
       "      <td>200630</td>\n",
       "    </tr>\n",
       "    <tr>\n",
       "      <th>1</th>\n",
       "      <td>5114</td>\n",
       "      <td>9.26</td>\n",
       "      <td>793665</td>\n",
       "    </tr>\n",
       "    <tr>\n",
       "      <th>2</th>\n",
       "      <td>28977</td>\n",
       "      <td>9.25</td>\n",
       "      <td>114262</td>\n",
       "    </tr>\n",
       "    <tr>\n",
       "      <th>3</th>\n",
       "      <td>9253</td>\n",
       "      <td>9.17</td>\n",
       "      <td>673572</td>\n",
       "    </tr>\n",
       "    <tr>\n",
       "      <th>4</th>\n",
       "      <td>9969</td>\n",
       "      <td>9.16</td>\n",
       "      <td>151266</td>\n",
       "    </tr>\n",
       "    <tr>\n",
       "      <th>...</th>\n",
       "      <td>...</td>\n",
       "      <td>...</td>\n",
       "      <td>...</td>\n",
       "    </tr>\n",
       "    <tr>\n",
       "      <th>12289</th>\n",
       "      <td>9316</td>\n",
       "      <td>4.15</td>\n",
       "      <td>211</td>\n",
       "    </tr>\n",
       "    <tr>\n",
       "      <th>12290</th>\n",
       "      <td>5543</td>\n",
       "      <td>4.28</td>\n",
       "      <td>183</td>\n",
       "    </tr>\n",
       "    <tr>\n",
       "      <th>12291</th>\n",
       "      <td>5621</td>\n",
       "      <td>4.88</td>\n",
       "      <td>219</td>\n",
       "    </tr>\n",
       "    <tr>\n",
       "      <th>12292</th>\n",
       "      <td>6133</td>\n",
       "      <td>4.98</td>\n",
       "      <td>175</td>\n",
       "    </tr>\n",
       "    <tr>\n",
       "      <th>12293</th>\n",
       "      <td>26081</td>\n",
       "      <td>5.46</td>\n",
       "      <td>142</td>\n",
       "    </tr>\n",
       "  </tbody>\n",
       "</table>\n",
       "<p>12294 rows × 3 columns</p>\n",
       "</div>"
      ],
      "text/plain": [
       "       anime_id  rating  members\n",
       "0         32281    9.37   200630\n",
       "1          5114    9.26   793665\n",
       "2         28977    9.25   114262\n",
       "3          9253    9.17   673572\n",
       "4          9969    9.16   151266\n",
       "...         ...     ...      ...\n",
       "12289      9316    4.15      211\n",
       "12290      5543    4.28      183\n",
       "12291      5621    4.88      219\n",
       "12292      6133    4.98      175\n",
       "12293     26081    5.46      142\n",
       "\n",
       "[12294 rows x 3 columns]"
      ]
     },
     "execution_count": 16,
     "metadata": {},
     "output_type": "execute_result"
    }
   ],
   "source": [
    "cols=df.select_dtypes(include='number')\n",
    "cols"
   ]
  },
  {
   "cell_type": "code",
   "execution_count": null,
   "id": "a30c0e18-3e12-436f-932f-c4dead334c5b",
   "metadata": {},
   "outputs": [],
   "source": []
  },
  {
   "cell_type": "code",
   "execution_count": 19,
   "id": "26f3a0cb-8b53-44c4-ab66-7a5e0892d46a",
   "metadata": {},
   "outputs": [
    {
     "name": "stdout",
     "output_type": "stream",
     "text": [
      "25th percentile 5.9\n",
      "75th percentile 7.17\n",
      "Inter quartile range: 1.2699999999999996\n",
      "Upper whisker length: 9.075\n",
      "number of outliers greater than upper whisker: 15\n"
     ]
    }
   ],
   "source": [
    "##STEP 2 BOXPLOTS\n",
    "#step 2 a. performing Box plot on rating column and observing outliers and inter quartile ranges\n",
    "df.boxplot(column='rating',vert=False)\n",
    "\n",
    "import numpy as np\n",
    "q1 = np.percentile(df[\"rating\"],25)\n",
    "print(\"25th percentile\",q1)\n",
    "q3 = np.percentile(df[\"rating\"],75)\n",
    "print(\"75th percentile\",q3)\n",
    "\n",
    "iqr = q3-q1\n",
    "print(\"Inter quartile range:\",iqr)\n",
    "UW = q3 + (1.5*iqr)\n",
    "\n",
    "print(\"Upper whisker length:\",UW)\n",
    "print(\"number of outliers greater than upper whisker:\",len(df[\"rating\"][df[\"rating\"] > UW]))\n",
    "\n"
   ]
  },
  {
   "cell_type": "code",
   "execution_count": 23,
   "id": "e008afda-f9a8-46f7-a889-63a71e0e7249",
   "metadata": {},
   "outputs": [
    {
     "data": {
      "image/png": "[encoded data removed]",
      "text/plain": [
       "<Figure size 640x480 with 1 Axes>"
      ]
     },
     "metadata": {},
     "output_type": "display_data"
    },
    {
     "data": {
      "image/png": "[encoded data removed]",
      "text/plain": [
       "<Figure size 1000x700 with 1 Axes>"
      ]
     },
     "metadata": {},
     "output_type": "display_data"
    }
   ],
   "source": [
    "\n",
    "import matplotlib.pyplot as plt\n",
    "import numpy as np\n",
    "fig = plt.figure(figsize =(10, 7))\n",
    "\n",
    "data=df[\"rating\"]\n",
    "# Creating plot\n",
    "plt.boxplot(data)\n",
    " \n",
    "# show plot\n",
    "plt.show()\n"
   ]
  },
  {
   "cell_type": "code",
   "execution_count": 24,
   "id": "94a6b4c7-fdbc-4c2e-9615-9f1ebbadbfd4",
   "metadata": {},
   "outputs": [
    {
     "name": "stdout",
     "output_type": "stream",
     "text": [
      "25th percentile 225.0\n",
      "75th percentile 9437.0\n",
      "Inter quartile range: 9212.0\n",
      "Upper whisker length: 23255.0\n",
      "number of outliers greater than upper whisker: 1900\n"
     ]
    }
   ],
   "source": [
    "##STEP 2 BOXPLOTS\n",
    "#step 2 b. performing Box plot on members column and observing outliers and inter quartile ranges\n",
    "df.boxplot(column='members',vert=False)\n",
    "\n",
    "import numpy as np\n",
    "q1 = np.percentile(df[\"members\"],25)\n",
    "print(\"25th percentile\",q1)\n",
    "q3 = np.percentile(df[\"members\"],75)\n",
    "print(\"75th percentile\",q3)\n",
    "\n",
    "iqr = q3-q1\n",
    "print(\"Inter quartile range:\",iqr)\n",
    "UW = q3 + (1.5*iqr)\n",
    "\n",
    "print(\"Upper whisker length:\",UW)\n",
    "print(\"number of outliers greater than upper whisker:\",len(df[\"members\"][df[\"members\"] > UW]))\n",
    "\n"
   ]
  },
  {
   "cell_type": "code",
   "execution_count": 25,
   "id": "3ab255c9-78ef-485e-a890-17789c70eade",
   "metadata": {},
   "outputs": [
    {
     "data": {
      "image/png": "[encoded data removed]",
      "text/plain": [
       "<Figure size 640x480 with 1 Axes>"
      ]
     },
     "metadata": {},
     "output_type": "display_data"
    },
    {
     "data": {
      "image/png": "[encoded data removed]",
      "text/plain": [
       "<Figure size 1000x700 with 1 Axes>"
      ]
     },
     "metadata": {},
     "output_type": "display_data"
    }
   ],
   "source": [
    "\n",
    "import matplotlib.pyplot as plt\n",
    "import numpy as np\n",
    "fig = plt.figure(figsize =(10, 7))\n",
    "\n",
    "data=df[\"members\"]\n",
    "# Creating plot\n",
    "plt.boxplot(data)\n",
    " \n",
    "# show plot\n",
    "plt.show()\n"
   ]
  },
  {
   "cell_type": "code",
   "execution_count": 26,
   "id": "e3525af1-1010-4345-a3ed-804e07d0e578",
   "metadata": {},
   "outputs": [
    {
     "name": "stdout",
     "output_type": "stream",
     "text": [
      "Skewness of the rating column: -0.5538785398052893\n",
      "Kurtosis of the rating column  0.5771293070524695\n"
     ]
    }
   ],
   "source": [
    "#HISTOGRAM\n",
    "df.hist(\"rating\")\n",
    "\n",
    "print(\"Skewness of the rating column:\",df['rating'].skew())\n",
    "print(\"Kurtosis of the rating column \",df['rating'].kurt())"
   ]
  },
  {
   "cell_type": "code",
   "execution_count": 27,
   "id": "440982ad-747d-4c13-98e5-6ffb5bcb14f8",
   "metadata": {},
   "outputs": [
    {
     "data": {
      "image/png": "[encoded data removed]",
      "text/plain": [
       "<Figure size 640x480 with 1 Axes>"
      ]
     },
     "metadata": {},
     "output_type": "display_data"
    },
    {
     "data": {
      "image/png": "[encoded data removed]",
      "text/plain": [
       "<Figure size 1000x700 with 1 Axes>"
      ]
     },
     "metadata": {},
     "output_type": "display_data"
    }
   ],
   "source": [
    "\n",
    "import matplotlib.pyplot as plt\n",
    "import numpy as np\n",
    "fig = plt.figure(figsize =(10, 7))\n",
    "\n",
    "data=df[\"members\"]\n",
    "# Creating plot\n",
    "plt.hist(data)\n",
    " \n",
    "# show plot\n",
    "plt.show()\n"
   ]
  },
  {
   "cell_type": "code",
   "execution_count": 28,
   "id": "dbe69bcb-fa24-491a-b6ca-95c64bdcabd4",
   "metadata": {},
   "outputs": [
    {
     "name": "stdout",
     "output_type": "stream",
     "text": [
      "Skewness of the members column: 6.682934321803793\n",
      "Kurtosis of the members column  62.85609656284951\n"
     ]
    }
   ],
   "source": [
    "#HISTOGRAM\n",
    "df.hist(\"members\")\n",
    "\n",
    "print(\"Skewness of the members column:\",df['members'].skew())\n",
    "print(\"Kurtosis of the members column \",df['members'].kurt())"
   ]
  },
  {
   "cell_type": "code",
   "execution_count": 29,
   "id": "bdbc683b-998d-4f41-a25a-17da52dc7ff0",
   "metadata": {},
   "outputs": [
    {
     "data": {
      "image/png": "[encoded data removed]",
      "text/plain": [
       "<Figure size 640x480 with 1 Axes>"
      ]
     },
     "metadata": {},
     "output_type": "display_data"
    },
    {
     "data": {
      "image/png": "[encoded data removed]",
      "text/plain": [
       "<Figure size 1000x700 with 1 Axes>"
      ]
     },
     "metadata": {},
     "output_type": "display_data"
    }
   ],
   "source": [
    "\n",
    "import matplotlib.pyplot as plt\n",
    "import numpy as np\n",
    "fig = plt.figure(figsize =(10, 7))\n",
    "\n",
    "data=df[\"rating\"]\n",
    "# Creating plot\n",
    "plt.hist(data)\n",
    " \n",
    "# show plot\n",
    "plt.show()\n"
   ]
  },
  {
   "cell_type": "code",
   "execution_count": 30,
   "id": "81b4d20a-5377-4ded-93b6-7c3693184cc1",
   "metadata": {},
   "outputs": [
    {
     "name": "stderr",
     "output_type": "stream",
     "text": [
      "C:\\Users\\Hima Chandana\\AppData\\Local\\Temp\\ipykernel_1032\\1134722465.py:1: FutureWarning: The default value of numeric_only in DataFrame.corr is deprecated. In a future version, it will default to False. Select only valid columns or specify the value of numeric_only to silence this warning.\n",
      "  df.corr()\n"
     ]
    },
    {
     "data": {
      "text/html": [
       "<div>\n",
       "<style scoped>\n",
       "    .dataframe tbody tr th:only-of-type {\n",
       "        vertical-align: middle;\n",
       "    }\n",
       "\n",
       "    .dataframe tbody tr th {\n",
       "        vertical-align: top;\n",
       "    }\n",
       "\n",
       "    .dataframe thead th {\n",
       "        text-align: right;\n",
       "    }\n",
       "</style>\n",
       "<table border=\"1\" class=\"dataframe\">\n",
       "  <thead>\n",
       "    <tr style=\"text-align: right;\">\n",
       "      <th></th>\n",
       "      <th>anime_id</th>\n",
       "      <th>rating</th>\n",
       "      <th>members</th>\n",
       "    </tr>\n",
       "  </thead>\n",
       "  <tbody>\n",
       "    <tr>\n",
       "      <th>anime_id</th>\n",
       "      <td>1.000000</td>\n",
       "      <td>-0.274266</td>\n",
       "      <td>-0.080071</td>\n",
       "    </tr>\n",
       "    <tr>\n",
       "      <th>rating</th>\n",
       "      <td>-0.274266</td>\n",
       "      <td>1.000000</td>\n",
       "      <td>0.387140</td>\n",
       "    </tr>\n",
       "    <tr>\n",
       "      <th>members</th>\n",
       "      <td>-0.080071</td>\n",
       "      <td>0.387140</td>\n",
       "      <td>1.000000</td>\n",
       "    </tr>\n",
       "  </tbody>\n",
       "</table>\n",
       "</div>"
      ],
      "text/plain": [
       "          anime_id    rating   members\n",
       "anime_id  1.000000 -0.274266 -0.080071\n",
       "rating   -0.274266  1.000000  0.387140\n",
       "members  -0.080071  0.387140  1.000000"
      ]
     },
     "execution_count": 30,
     "metadata": {},
     "output_type": "execute_result"
    }
   ],
   "source": [
    "df.corr()"
   ]
  },
  {
   "cell_type": "code",
   "execution_count": 31,
   "id": "bfd9d19d-d84c-45d6-afd8-9ed6bb628f29",
   "metadata": {},
   "outputs": [
    {
     "name": "stderr",
     "output_type": "stream",
     "text": [
      "C:\\Users\\Hima Chandana\\AppData\\Local\\Temp\\ipykernel_1032\\3836933890.py:10: FutureWarning: \n",
      "\n",
      "`shade` is now deprecated in favor of `fill`; setting `fill=True`.\n",
      "This will become an error in seaborn v0.14.0; please update your code.\n",
      "\n",
      "  sns.kdeplot(data1['rating'], shade=True)\n"
     ]
    },
    {
     "data": {
      "image/png": "[encoded data removed]",
      "text/plain": [
       "<Figure size 640x480 with 1 Axes>"
      ]
     },
     "metadata": {},
     "output_type": "display_data"
    }
   ],
   "source": [
    "import pandas as pd\n",
    "import seaborn as sns\n",
    "import matplotlib.pyplot as plt\n",
    "\n",
    "# Load the dataset \n",
    "# Identify continuous features \n",
    "\n",
    "data1=pd.read_csv(\"anime.csv\")\n",
    "# Plotting density plot\n",
    "sns.kdeplot(data1['rating'], shade=True)\n",
    "plt.title('Density Plot of rating')\n",
    "plt.xlabel('rating')\n",
    "plt.ylabel('Density')\n",
    "plt.show()\n"
   ]
  },
  {
   "cell_type": "code",
   "execution_count": 32,
   "id": "d7ee5432-c576-427c-b943-c0e2dc0c106e",
   "metadata": {},
   "outputs": [
    {
     "name": "stderr",
     "output_type": "stream",
     "text": [
      "C:\\Users\\Hima Chandana\\AppData\\Local\\Temp\\ipykernel_1032\\2466908888.py:10: FutureWarning: \n",
      "\n",
      "`shade` is now deprecated in favor of `fill`; setting `fill=True`.\n",
      "This will become an error in seaborn v0.14.0; please update your code.\n",
      "\n",
      "  sns.kdeplot(data1['members'], shade=True)\n"
     ]
    },
    {
     "data": {
      "image/png": "[encoded data removed]",
      "text/plain": [
       "<Figure size 640x480 with 1 Axes>"
      ]
     },
     "metadata": {},
     "output_type": "display_data"
    }
   ],
   "source": [
    "import pandas as pd\n",
    "import seaborn as sns\n",
    "import matplotlib.pyplot as plt\n",
    "\n",
    "# Load the dataset \n",
    "# Identify continuous features \n",
    "\n",
    "data1=pd.read_csv(\"anime.csv\")\n",
    "# Plotting density plot\n",
    "sns.kdeplot(data1['members'], shade=True)\n",
    "plt.title('Density Plot of members')\n",
    "plt.xlabel('members')\n",
    "plt.ylabel('Density')\n",
    "plt.show()\n"
   ]
  },
  {
   "cell_type": "code",
   "execution_count": 34,
   "id": "a3699c89-e97a-44f9-b7a0-fbe16cf49e18",
   "metadata": {},
   "outputs": [
    {
     "name": "stderr",
     "output_type": "stream",
     "text": [
      "C:\\Users\\Hima Chandana\\AppData\\Local\\Temp\\ipykernel_1032\\4229638733.py:9: FutureWarning: The default value of numeric_only in DataFrame.corr is deprecated. In a future version, it will default to False. Select only valid columns or specify the value of numeric_only to silence this warning.\n",
      "  correlation_matrix = data.corr()\n"
     ]
    },
    {
     "data": {
      "image/png": "[encoded data removed]",
      "text/plain": [
       "<Figure size 1200x1000 with 2 Axes>"
      ]
     },
     "metadata": {},
     "output_type": "display_data"
    }
   ],
   "source": [
    "import pandas as pd\n",
    "import seaborn as sns\n",
    "import matplotlib.pyplot as plt\n",
    "\n",
    "# Load the dataset\n",
    "data = pd.read_csv(\"anime.csv\")\n",
    "\n",
    "# Compute the correlation matrix\n",
    "correlation_matrix = data.corr()\n",
    "\n",
    "# Set up the matplotlib figure\n",
    "plt.figure(figsize=(12, 10))\n",
    "\n",
    "# Draw the heatmap\n",
    "sns.heatmap(correlation_matrix, annot=True, cmap='coolwarm', fmt='.2f', linewidths=0.5)\n",
    "\n",
    "# Add title and labels for better understanding\n",
    "plt.title('Correlation Heatmap of anime Dataset')\n",
    "plt.show()\n"
   ]
  },
  {
   "cell_type": "code",
   "execution_count": 35,
   "id": "a40edf93-7b0a-41fb-8223-cd3d0bbd7064",
   "metadata": {},
   "outputs": [
    {
     "data": {
      "text/html": [
       "<div>\n",
       "<style scoped>\n",
       "    .dataframe tbody tr th:only-of-type {\n",
       "        vertical-align: middle;\n",
       "    }\n",
       "\n",
       "    .dataframe tbody tr th {\n",
       "        vertical-align: top;\n",
       "    }\n",
       "\n",
       "    .dataframe thead th {\n",
       "        text-align: right;\n",
       "    }\n",
       "</style>\n",
       "<table border=\"1\" class=\"dataframe\">\n",
       "  <thead>\n",
       "    <tr style=\"text-align: right;\">\n",
       "      <th></th>\n",
       "      <th>anime_id</th>\n",
       "      <th>name</th>\n",
       "      <th>genre</th>\n",
       "      <th>type</th>\n",
       "      <th>episodes</th>\n",
       "      <th>rating</th>\n",
       "      <th>members</th>\n",
       "    </tr>\n",
       "  </thead>\n",
       "  <tbody>\n",
       "    <tr>\n",
       "      <th>0</th>\n",
       "      <td>32281</td>\n",
       "      <td>Kimi no Na wa.</td>\n",
       "      <td>Drama, Romance, School, Supernatural</td>\n",
       "      <td>Movie</td>\n",
       "      <td>1</td>\n",
       "      <td>9.37</td>\n",
       "      <td>200630</td>\n",
       "    </tr>\n",
       "    <tr>\n",
       "      <th>1</th>\n",
       "      <td>5114</td>\n",
       "      <td>Fullmetal Alchemist: Brotherhood</td>\n",
       "      <td>Action, Adventure, Drama, Fantasy, Magic, Mili...</td>\n",
       "      <td>TV</td>\n",
       "      <td>64</td>\n",
       "      <td>9.26</td>\n",
       "      <td>793665</td>\n",
       "    </tr>\n",
       "    <tr>\n",
       "      <th>2</th>\n",
       "      <td>28977</td>\n",
       "      <td>Gintama°</td>\n",
       "      <td>Action, Comedy, Historical, Parody, Samurai, S...</td>\n",
       "      <td>TV</td>\n",
       "      <td>51</td>\n",
       "      <td>9.25</td>\n",
       "      <td>114262</td>\n",
       "    </tr>\n",
       "    <tr>\n",
       "      <th>3</th>\n",
       "      <td>9253</td>\n",
       "      <td>Steins;Gate</td>\n",
       "      <td>Sci-Fi, Thriller</td>\n",
       "      <td>TV</td>\n",
       "      <td>24</td>\n",
       "      <td>9.17</td>\n",
       "      <td>673572</td>\n",
       "    </tr>\n",
       "    <tr>\n",
       "      <th>4</th>\n",
       "      <td>9969</td>\n",
       "      <td>Gintama&amp;#039;</td>\n",
       "      <td>Action, Comedy, Historical, Parody, Samurai, S...</td>\n",
       "      <td>TV</td>\n",
       "      <td>51</td>\n",
       "      <td>9.16</td>\n",
       "      <td>151266</td>\n",
       "    </tr>\n",
       "  </tbody>\n",
       "</table>\n",
       "</div>"
      ],
      "text/plain": [
       "   anime_id                              name  \\\n",
       "0     32281                    Kimi no Na wa.   \n",
       "1      5114  Fullmetal Alchemist: Brotherhood   \n",
       "2     28977                          Gintama°   \n",
       "3      9253                       Steins;Gate   \n",
       "4      9969                     Gintama&#039;   \n",
       "\n",
       "                                               genre   type episodes  rating  \\\n",
       "0               Drama, Romance, School, Supernatural  Movie        1    9.37   \n",
       "1  Action, Adventure, Drama, Fantasy, Magic, Mili...     TV       64    9.26   \n",
       "2  Action, Comedy, Historical, Parody, Samurai, S...     TV       51    9.25   \n",
       "3                                   Sci-Fi, Thriller     TV       24    9.17   \n",
       "4  Action, Comedy, Historical, Parody, Samurai, S...     TV       51    9.16   \n",
       "\n",
       "   members  \n",
       "0   200630  \n",
       "1   793665  \n",
       "2   114262  \n",
       "3   673572  \n",
       "4   151266  "
      ]
     },
     "execution_count": 35,
     "metadata": {},
     "output_type": "execute_result"
    }
   ],
   "source": [
    "df.head()"
   ]
  },
  {
   "cell_type": "code",
   "execution_count": 36,
   "id": "0464db86-4eb8-4257-b1f6-51170c5ebd0d",
   "metadata": {},
   "outputs": [
    {
     "data": {
      "text/plain": [
       "12294"
      ]
     },
     "execution_count": 36,
     "metadata": {},
     "output_type": "execute_result"
    }
   ],
   "source": [
    "len(df[\"anime_id\"])"
   ]
  },
  {
   "cell_type": "code",
   "execution_count": 37,
   "id": "a6b709fa-9196-4bee-8d15-a259bf4cf529",
   "metadata": {},
   "outputs": [
    {
     "data": {
      "text/plain": [
       "Hentai                                                  885\n",
       "Comedy                                                  523\n",
       "Music                                                   301\n",
       "Kids                                                    199\n",
       "Comedy, Slice of Life                                   179\n",
       "                                                       ... \n",
       "Adventure, Drama, Fantasy, Game, Sci-Fi                   1\n",
       "Adventure, Demons, Fantasy, Historical                    1\n",
       "Action, Comedy, Drama, Mecha, Music, Sci-Fi, Shounen      1\n",
       "Action, Comedy, Fantasy, Mecha, Sci-Fi, Shounen           1\n",
       "Hentai, Slice of Life                                     1\n",
       "Name: genre, Length: 3264, dtype: int64"
      ]
     },
     "execution_count": 37,
     "metadata": {},
     "output_type": "execute_result"
    }
   ],
   "source": [
    "df[\"genre\"].value_counts()"
   ]
  },
  {
   "cell_type": "code",
   "execution_count": 38,
   "id": "acd4e09b-d2e4-4b39-bc92-6192c6f6601b",
   "metadata": {},
   "outputs": [
    {
     "data": {
      "text/plain": [
       "TV         3812\n",
       "OVA        3311\n",
       "Movie      2348\n",
       "Special    1676\n",
       "ONA         659\n",
       "Music       488\n",
       "Name: type, dtype: int64"
      ]
     },
     "execution_count": 38,
     "metadata": {},
     "output_type": "execute_result"
    }
   ],
   "source": [
    "df[\"type\"].value_counts()"
   ]
  },
  {
   "cell_type": "code",
   "execution_count": 40,
   "id": "28c646b3-030f-4ce7-8019-38242ba17e07",
   "metadata": {},
   "outputs": [],
   "source": [
    "#Genres: \n",
    "\n",
    "#The genre column contains a list of genres for each anime.\n",
    "\n",
    "#This is a critical feature for content-based filtering.\n",
    "    \n",
    "#User Ratings: \n",
    "#The rating column provides user ratings, which can be used for collaborative filtering.\n",
    "                                                     \n",
    "#Type:\n",
    "\n",
    " #   The type column indicates the format of the anime (e.g., TV, Movie), which can help in differentiating the content type.\n",
    "    \n",
    "#Episodes: \n",
    "    \n",
    " #   The episodes column specifies the number of episodes, which might influence user preferences\n",
    "    \n",
    "#Members: \n",
    "    #The members column indicates the number of members who have interacted with the anime, which can be used to gauge popularity."
   ]
  },
  {
   "cell_type": "code",
   "execution_count": 41,
   "id": "59085a7c-a675-4203-a95c-5a83fa8eb646",
   "metadata": {},
   "outputs": [],
   "source": [
    "#Proposed Features for Similarity Computation:\n",
    "\n",
    "#Genres: Convert the genre column into a one-hot encoded matrix where each genre is a separate feature.\n",
    "\n",
    " #   User Ratings: Use the rating column as a feature.\n",
    "##\n",
    "#Type: Convert the type column into a one-hot encoded matrix.\n",
    "\n",
    " #   Episodes: Normalize the episodes column.\n",
    "\n",
    "#Members: Normalize the members column.\n",
    "\n",
    "#let us consider genre and rating and members as the features for similarity computation"
   ]
  },
  {
   "cell_type": "code",
   "execution_count": 42,
   "id": "faf8d4d2-23b5-41c8-a206-2b4f6b3c9508",
   "metadata": {},
   "outputs": [],
   "source": [
    "#Decide on the features that will be used for computing similarity (e.g., genres, user ratings).\n",
    "#Convert categorical features into numerical representations if necessary.\n",
    "#Normalize numerical features if required."
   ]
  },
  {
   "cell_type": "code",
   "execution_count": 46,
   "id": "139d01b3-ba13-424f-a3a7-7c1743fe4bab",
   "metadata": {},
   "outputs": [],
   "source": [
    "#Decide on the features that will be used for computing similarity\n",
    "#cosfeat_sim = ['genre', 'members','rating']"
   ]
  },
  {
   "cell_type": "code",
   "execution_count": 71,
   "id": "a76f0b3d-895b-4e96-8f62-ce181187c910",
   "metadata": {},
   "outputs": [],
   "source": [
    "import pandas as pd\n",
    "from sklearn.preprocessing import OneHotEncoder, MinMaxScaler\n",
    "from sklearn.metrics.pairwise import cosine_similarity\n",
    "\n",
    "# Load the dataset\n",
    "data = 'anime.csv'\n",
    "anime_data = pd.read_csv(data)\n",
    "\n",
    "# Handle missing values\n",
    "#anime_data['genre'] = anime_data['genre'].fillna('')\n",
    "#anime_data['rating'] = anime_data['rating'].fillna(0)\n",
    "#anime_data['members'] = anime_data['members'].fillna(0)\n",
    "\n",
    "anime_data['genre'].fillna(\"Hentai\",inplace=True)\n",
    "\n",
    "#replacing the median values for the numerical columns...\n",
    "anime_data['rating'].fillna(anime_data['rating'].median(), inplace=True)\n",
    "anime_data['members'].fillna(anime_data['members'].median(), inplace=True)\n",
    "\n",
    "# One-hot encode 'genre'\n",
    "genre_encoder = OneHotEncoder()\n",
    "anime_data['genre_list'] = anime_data['genre'].apply(lambda x: x.split(', '))\n",
    "genres_one_hot = genre_encoder.fit_transform(anime_data['genre_list'].apply(lambda x: ','.join(x)).values.reshape(-1, 1)).toarray()\n",
    "genres_columns = genre_encoder.categories_[0]\n",
    "genres_df = pd.DataFrame(genres_one_hot, columns=genres_columns)\n",
    "\n",
    "# Normalize 'rating' and 'members'\n",
    "scaler = MinMaxScaler()\n",
    "anime_data[['rating', 'members']] = scaler.fit_transform(anime_data[['rating', 'members']])\n",
    "\n",
    "# Combine the features into a single dataframe\n",
    "anime_features = pd.concat([anime_data[['rating', 'members']], genres_df], axis=1)\n",
    "\n",
    "# Function to recommend similar anime\n",
    "def recommend_anime(target_anime_id, anime_data, anime_features, threshold=0.5):\n",
    "    # Find the index of the target anime\n",
    "    target_index = anime_data[anime_data['anime_id'] == target_anime_id].index[0]\n",
    "    \n",
    "    # Compute cosine similarity\n",
    "    similarity_matrix = cosine_similarity(anime_features)\n",
    "    similarity_scores = similarity_matrix[target_index]\n",
    "    \n",
    "    # Sort by similarity scores and apply threshold\n",
    "    similar_anime_indices = similarity_scores.argsort()[::-1]\n",
    "    similar_anime_indices = [i for i in similar_anime_indices if similarity_scores[i] >= threshold and i != target_index]\n",
    "    \n",
    "    # Get the similar anime data\n",
    "    similar_anime = anime_data.iloc[similar_anime_indices]\n",
    "    return similar_anime\n",
    "\n"
   ]
  },
  {
   "cell_type": "code",
   "execution_count": 49,
   "id": "7cd4ee11-3f9f-4297-8e24-da7c16f28309",
   "metadata": {},
   "outputs": [
    {
     "name": "stdout",
     "output_type": "stream",
     "text": [
      "      anime_id                          name    rating   members\n",
      "5805       547   Wind: A Breath of Heart OVA  0.561825  0.002010\n",
      "6394       546  Wind: A Breath of Heart (TV)  0.536615  0.007666\n"
     ]
    }
   ],
   "source": [
    "# Example usage\n",
    "target_anime_id = 32281  # Replace with the actual anime ID you want to use as the target\n",
    "recommended_anime = recommend_anime(target_anime_id, anime_data, anime_features, threshold=0.5)\n",
    "print(recommended_anime[['anime_id', 'name', 'rating', 'members']])\n"
   ]
  },
  {
   "cell_type": "code",
   "execution_count": null,
   "id": "68553bf4-b116-4e7b-9fc4-0b3374c18f8a",
   "metadata": {},
   "outputs": [],
   "source": []
  },
  {
   "cell_type": "code",
   "execution_count": 60,
   "id": "d3fe8d2c-b072-461d-8729-7f806046d5a9",
   "metadata": {},
   "outputs": [],
   "source": [
    "# Split the data into training and testing sets\n",
    "from sklearn.model_selection import train_test_split\n",
    "train_data, test_data, train_features, test_features = train_test_split(anime_data, anime_features, test_size=0.2, random_state=42)"
   ]
  },
  {
   "cell_type": "code",
   "execution_count": 70,
   "id": "468d47d0-c4a6-4092-aefa-ab1f7223b0dc",
   "metadata": {},
   "outputs": [],
   "source": [
    "#2. Get the Model Ready\n",
    "#To keep things simple, we'll assume that cosine similarity and the same features are used in the construction of the recommendation system.\n",
    "\n",
    "\n"
   ]
  },
  {
   "cell_type": "code",
   "execution_count": 62,
   "id": "0c3218be-0a54-43ee-b22f-63c0bdd0ae2a",
   "metadata": {},
   "outputs": [],
   "source": [
    "#3.making predictions"
   ]
  },
  {
   "cell_type": "code",
   "execution_count": 72,
   "id": "2ecda573-ca25-410a-a23f-c87716ff8eb1",
   "metadata": {},
   "outputs": [],
   "source": [
    "from sklearn.metrics.pairwise import cosine_similarity\n",
    "\n",
    "def recommend_anime(target_anime_id, anime_data, anime_features, threshold=0.5):\n",
    "    # Find the index of the target anime\n",
    "    target_index = anime_data[anime_data['anime_id'] == target_anime_id].index[0]\n",
    "    \n",
    "    # Compute cosine similarity\n",
    "    similarity_matrix = cosine_similarity(anime_features)\n",
    "    similarity_scores = similarity_matrix[target_index]\n",
    "    \n",
    "    # Sort by similarity scores and apply threshold\n",
    "    similar_anime_indices = similarity_scores.argsort()[::-1]\n",
    "    similar_anime_indices = [i for i in similar_anime_indices if similarity_scores[i] >= threshold and i != target_index]\n",
    "    \n",
    "    # Get the similar anime data\n",
    "    similar_anime = anime_data.iloc[similar_anime_indices]\n",
    "    return similar_anime\n",
    "\n",
    "# Example: Make predictions for all items in the test set\n",
    "#test_data['predictions'] = test_data['anime_id'].apply(lambda x: recommend_anime(x, train_data, train_features, threshold=0.5)['anime_id'].tolist())\n"
   ]
  },
  {
   "cell_type": "code",
   "execution_count": 90,
   "id": "f15a897e-41d0-40d2-94be-43c40a90fafd",
   "metadata": {},
   "outputs": [],
   "source": [
    "def recommend_anime(target_anime_id, threshold=0.5):\n",
    "    similar_anime_ids = user_sim_df.loc[target_anime_id].sort_values(ascending=False)\n",
    "    similar_anime_ids = similar_anime_ids[similar_anime_ids > threshold].index\n",
    "    return similar_anime_ids\n",
    "\n",
    "# Split the dataset into training and testing sets\n",
    "from sklearn.model_selection import train_test_split\n",
    "train_df, test_df = train_test_split(df, test_size=0.2, random_state=42)\n",
    "\n",
    "# Evaluate the recommendation system\n",
    "def eval_recommend_system(threshold=0.5):\n",
    "    precision_sum = 0\n",
    "    recall_sum = 0\n",
    "    f1_sum = 0\n",
    "    for target_anime_id in test_df['anime_id']:\n",
    "        recommended_anime_ids = recommend_anime(target_anime_id, threshold)\n",
    "        actual_anime_ids = test_df[test_df['anime_id'] != target_anime_id]['anime_id'].values\n",
    "        true_positives = np.intersect1d(actual_anime_ids, recommended_anime_ids).size\n",
    "        false_positives = recommended_anime_ids.size - true_positives\n",
    "        false_negatives = actual_anime_ids.size - true_positives\n",
    "        precision = true_positives / (true_positives + false_positives) if (true_positives + false_positives) > 0 else 0\n",
    "        recall = true_positives / (true_positives + false_negatives) if (true_positives + false_negatives) > 0 else 0\n",
    "        f1 = 2 * (precision * recall) / (precision + recall) if (precision + recall) > 0 else 0\n",
    "        precision_sum += precision\n",
    "        recall_sum += recall\n",
    "        f1_sum += f1\n",
    "    precision_avg = precision_sum / len(test_df)\n",
    "    recall_avg = recall_sum / len(test_df)\n",
    "    f1_avg = f1_sum / len(test_df)\n",
    "    return precision_avg, recall_avg, f1_avg\n",
    "    print(precision_avg)\n"
   ]
  },
  {
   "cell_type": "code",
   "execution_count": 91,
   "id": "abbb1a25-0a0e-487d-b4a8-d43b4fdec73c",
   "metadata": {},
   "outputs": [],
   "source": [
    "##we got the results as follows."
   ]
  },
  {
   "cell_type": "code",
   "execution_count": 92,
   "id": "df63604d-797b-4d07-bfd3-974c93dcb2e3",
   "metadata": {},
   "outputs": [],
   "source": [
    "#Threshold\tprecision\trecall\t\tf1\n",
    "#0.30\t\t0.1528\t\t0.0046\t\t0.0101\n",
    "#0.40\t\t0.1548\t\t0.0059\t\t0.01\n",
    "#0.5\t\t0.1574\t\t0.0053\t\t0.001\n",
    "#0.6\t\t0.1592\t\t0.0049\t\t0.010\n",
    "#0.7\t\t0.1562\t\t0.0056\t\t0.001\n",
    "\n",
    "\n"
   ]
  },
  {
   "cell_type": "code",
   "execution_count": 51,
   "id": "baf27b03-9a64-496a-9d16-c44d6d155a48",
   "metadata": {},
   "outputs": [],
   "source": [
    "\n",
    "#Interview Questions:\n",
    "#1. Can you explain the difference between user-based and item-based collaborative filtering?\n",
    "#2. What is collaborative filtering, and how does it work?"
   ]
  },
  {
   "cell_type": "code",
   "execution_count": 53,
   "id": "9d076fdd-674f-4ed4-838d-fed3e6366572",
   "metadata": {},
   "outputs": [],
   "source": [
    "#Recommendation systems employ the #Collaborative Filtering (CF) approach, \n",
    "#which allows the system to provide recommendations based on user preferences and historical behavior. \n",
    "#Two primary categories of collaborative filtering exist:\n",
    "\n",
    "\n",
    "#Collaborative Filtering Based on Users\n",
    "\n",
    "\n",
    "#Concept: \n",
    "\n",
    "#Using the tastes of users who are similar to the user, this method suggests products to the user.\n",
    "#It is predicated on the idea that users who have historically had similar likes will do so going forward.\n",
    "\n",
    "\n",
    "#Easy to comprehend and apply.\n",
    "\n",
    "\n",
    "#May work well in situations when user data is abundant.\n",
    "\n",
    "\n",
    "#May be less successful in situations when user preferences are homogeneous.\n",
    "\n",
    "\n",
    "#May experience scaling problems when there are a lot of users.\n",
    "\n",
    "\n",
    "#Has issues with \"cold start\" for new users with minimal or no data."
   ]
  },
  {
   "cell_type": "code",
   "execution_count": 54,
   "id": "fa1ee05f-4108-45de-948f-e0be70cc598e",
   "metadata": {},
   "outputs": [],
   "source": [
    "\n",
    "#Collaborative Filtering Based on Items\n",
    "\n",
    "\n",
    "#Concept: \n",
    "#This method suggests products by comparing them with one another. \n",
    "#It makes the assumption that a user who enjoys one item will enjoy others that are comparable to it.\n",
    "\n",
    "\n",
    "#Due of item similarity's predictable nature and ability to be precomputed,\n",
    "#it is frequently more scalable than user-based approaches.\n",
    "\n",
    "\n",
    "#Better able to accommodate new users because suggestions are made based more on item similarity than user preferences.\n",
    "\n",
    "\n",
    "#More stable because, in contrast to user preferences, item features are typically more static.\n",
    "\n",
    "\n",
    "#Less successful if there is little interaction between objects or if the items are highly varied.\n",
    "\n",
    "\n",
    "#May not be as good at capturing intricate user preferences as user-based techniques."
   ]
  },
  {
   "cell_type": "code",
   "execution_count": null,
   "id": "8caf124c-f301-4a5a-8d38-0982a11f2ae4",
   "metadata": {},
   "outputs": [],
   "source": [
    "#2. What is collaborative filtering, and how does it work?\n"
   ]
  },
  {
   "cell_type": "code",
   "execution_count": null,
   "id": "bdc6fcf6-26f6-4996-b055-646b06605a5c",
   "metadata": {},
   "outputs": [],
   "source": [
    "#Recommendation systems employ a technique called #Collaborative Filtering (CF), \n",
    "#which gathers user preferences or taste data to forecast a user's interests.\n",
    "\n",
    "#The main idea is to use a large user base's preferences to generate recommendations based on the idea that individuals with similar tastes are\n",
    "\n",
    "#likely to be similar to one another.\n",
    "\n",
    "#The Operation of Collaborative Filtering:\n",
    "\n",
    "#Data Collection: \n",
    "#Compile information on how users engage with certain products. \n",
    "#This might be either explicit—like ratings—or implicit—like clicks, purchases, or the amount of time spent on an item.\n",
    "\n",
    "#Similarity Estimate:\n",
    "\n",
    "#User-Based CF: Use interaction data from users to calculate the similarity between them. Cosine similarity, Pearson correlation, and Jaccard similarity are examples of common metrics.\n",
    "\n",
    "#Item-Based CF: Determine how similar two items are based on user interactions.\n",
    "\n",
    "#Proposal Formulation:\n",
    "\n"
   ]
  },
  {
   "cell_type": "code",
   "execution_count": 55,
   "id": "cb248ded-972a-4497-9ff9-4b3586705591",
   "metadata": {},
   "outputs": [],
   "source": [
    "#User-Based CF: Locate users with comparable preferences for a certain user.\n",
    "#Provide recommendations for products that the present user hasn't yet interacted with but that these comparable users have liked.\n",
    "\n",
    "#Item-Based CF: Provide recommendations for products to a user based on what they have already liked or engaged with.\n",
    "\n",
    "#Prediction: Estimate a user's propensity to enjoy a specific item based on the computed similarities. \n",
    "#Usually, this is accomplished by averaging the evaluations of comparable people or products.\n"
   ]
  },
  {
   "cell_type": "code",
   "execution_count": null,
   "id": "102ac4e2-b9d3-4e54-8af0-924cb793810b",
   "metadata": {},
   "outputs": [],
   "source": []
  },
  {
   "cell_type": "code",
   "execution_count": null,
   "id": "b5e23000-5041-4857-a9e7-d70fc11d79b1",
   "metadata": {},
   "outputs": [],
   "source": []
  },
  {
   "cell_type": "code",
   "execution_count": null,
   "id": "fae4d7d4-2798-4b26-8c04-026cca54221d",
   "metadata": {},
   "outputs": [],
   "source": []
  },
  {
   "cell_type": "code",
   "execution_count": null,
   "id": "33831c1f-d312-4e74-bf39-970afdb7ff42",
   "metadata": {},
   "outputs": [],
   "source": []
  },
  {
   "cell_type": "code",
   "execution_count": null,
   "id": "1d704a3b-3e89-493a-aaea-878054592532",
   "metadata": {},
   "outputs": [],
   "source": []
  }
 ],
 "metadata": {
  "kernelspec": {
   "display_name": "Python 3 (ipykernel)",
   "language": "python",
   "name": "python3"
  },
  "language_info": {
   "codemirror_mode": {
    "name": "ipython",
    "version": 3
   },
   "file_extension": ".py",
   "mimetype": "text/x-python",
   "name": "python",
   "nbconvert_exporter": "python",
   "pygments_lexer": "ipython3",
   "version": "3.11.7"
  }
 },
 "nbformat": 4,
 "nbformat_minor": 5
}
